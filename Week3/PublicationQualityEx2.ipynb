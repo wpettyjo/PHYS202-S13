{
 "metadata": {
  "name": "PublicationQualityEx2"
 },
 "nbformat": 3,
 "nbformat_minor": 0,
 "worksheets": [
  {
   "cells": [
    {
     "cell_type": "code",
     "collapsed": false,
     "input": [
      "import numpy as np\n",
      "import math"
     ],
     "language": "python",
     "metadata": {},
     "outputs": [],
     "prompt_number": 12
    },
    {
     "cell_type": "markdown",
     "metadata": {},
     "source": [
      "#1\n",
      "-"
     ]
    },
    {
     "cell_type": "markdown",
     "metadata": {},
     "source": [
      "$\\psi_k(x) = A\\biggl(\\frac{ik - a\\tanh(ax)}{ik + a}\\biggr) + e^{+ikx}$"
     ]
    },
    {
     "cell_type": "markdown",
     "metadata": {},
     "source": [
      "$\\upsilon_1 = m_2\\sqrt{\\frac{2G}{M}\\biggl(\\frac{1}{r}-\\frac{1}{r_0}\\biggr)}$"
     ]
    },
    {
     "cell_type": "markdown",
     "metadata": {},
     "source": [
      "$f(\\theta) = \\frac{\\hslash}{p}\\sum\\limits_{\\ell=0}^{\\infty}(2\\ell + i)e^{i\\delta_\\ell}\\sin{\\delta_\\ell}P_\\ell(\\cos{\\theta})$"
     ]
    },
    {
     "cell_type": "markdown",
     "metadata": {},
     "source": [
      "$\\frac{d\\sigma}{d\\Omega} = \\frac{k\\pi^2(\\pi - \\theta}{mu_0^2\\theta^2(2\\pi - \\theta)^2\\sin{\\theta}}$"
     ]
    },
    {
     "cell_type": "markdown",
     "metadata": {},
     "source": [
      "$\\langle f \\rangle = \\frac{1}{\\tau}\\int\\limits_{0}^{\\tau}f(t)dt$"
     ]
    },
    {
     "cell_type": "markdown",
     "metadata": {},
     "source": [
      "$\\Omega_s = \\omega\\frac{\\sin{\\alpha}}{\\sin${\\theta}} = \\frac{L}{\\lambda_1} = \\omega\\frac{\\sqrt{\\lambda_3^2+(\\lambda^2_1-\\lambda_3^2)\\sin{\\alpha}}}{\\lambda_1}$"
     ]
    },
    {
     "cell_type": "markdown",
     "metadata": {},
     "source": [
      "#2\n",
      "-"
     ]
    },
    {
     "cell_type": "markdown",
     "metadata": {},
     "source": [
      "$U(x) = -sech^2{ax}$"
     ]
    },
    {
     "cell_type": "code",
     "collapsed": false,
     "input": [
      "t = np.arange(-pi, pi + 1,pi/32)\n",
      "u = -1/(np.cosh(t) ** 2)"
     ],
     "language": "python",
     "metadata": {},
     "outputs": [],
     "prompt_number": 33
    },
    {
     "cell_type": "code",
     "collapsed": false,
     "input": [
      "plot (t,u)\n",
      "ylabel('$U(x) = -sech^2{ax} (x)$')\n",
      "xlabel('x (rad)')\n",
      "xticks(np.arange(-pi,pi + 1,pi/2),('$-pi$','$-pi/2$','0','$pi/2$','$pi$'))\n"
     ],
     "language": "python",
     "metadata": {},
     "outputs": [
      {
       "output_type": "pyout",
       "prompt_number": 47,
       "text": [
        "([<matplotlib.axis.XTick at 0x10a86a050>,\n",
        "  <matplotlib.axis.XTick at 0x108f38510>,\n",
        "  <matplotlib.axis.XTick at 0x10a892fd0>,\n",
        "  <matplotlib.axis.XTick at 0x10ab19950>,\n",
        "  <matplotlib.axis.XTick at 0x10ab19110>],\n",
        " <a list of 5 Text xticklabel objects>)"
       ]
      },
      {
       "output_type": "display_data",
       "png": "[encoded data removed]"
      }
     ],
     "prompt_number": 47
    },
    {
     "cell_type": "code",
     "collapsed": false,
     "input": [],
     "language": "python",
     "metadata": {},
     "outputs": []
    }
   ],
   "metadata": {}
  }
 ]
}