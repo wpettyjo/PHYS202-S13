{
 "metadata": {
  "name": "TuesWork"
 },
 "nbformat": 3,
 "nbformat_minor": 0,
 "worksheets": [
  {
   "cells": [
    {
     "cell_type": "markdown",
     "metadata": {},
     "source": [
      "Work on Tuesday\n",
      "-"
     ]
    },
    {
     "cell_type": "markdown",
     "metadata": {},
     "source": [
      "Ex.1\n",
      "-"
     ]
    },
    {
     "cell_type": "code",
     "collapsed": false,
     "input": [
      "f = lambda x: x**4 -2*x +1"
     ],
     "language": "python",
     "metadata": {},
     "outputs": [],
     "prompt_number": 1
    },
    {
     "cell_type": "code",
     "collapsed": false,
     "input": [
      "N = 100\n",
      "a = 0.\n",
      "b = 2.\n",
      "h = (b-a)/N\n",
      "s = 0.5 * f(a) + 0.5 * f(b)\n",
      "for k in range(1,N):\n",
      "    s += f(a+k*h)\n",
      "print (h*s)"
     ],
     "language": "python",
     "metadata": {},
     "outputs": [
      {
       "output_type": "stream",
       "stream": "stdout",
       "text": [
        "4.401066656\n"
       ]
      }
     ],
     "prompt_number": 6
    },
    {
     "cell_type": "code",
     "collapsed": false,
     "input": [
      "N = 1000\n",
      "a = 0.\n",
      "b = 2.\n",
      "h = (b-a)/N\n",
      "s = 0.5 * f(a) + 0.5 * f(b)\n",
      "for k in range(1,N):\n",
      "    s += f(a+k*h)\n",
      "print (h*s)"
     ],
     "language": "python",
     "metadata": {},
     "outputs": [
      {
       "output_type": "stream",
       "stream": "stdout",
       "text": [
        "4.40001066667\n"
       ]
      }
     ],
     "prompt_number": 7
    },
    {
     "cell_type": "markdown",
     "metadata": {},
     "source": [
      "Ex.2\n",
      "-"
     ]
    },
    {
     "cell_type": "markdown",
     "metadata": {},
     "source": [
      "a)\n",
      "-"
     ]
    },
    {
     "cell_type": "code",
     "collapsed": false,
     "input": [
      "g = lambda x: x**4 -2*x +1\n",
      "N = 10\n",
      "a = 0.\n",
      "b = 2.\n",
      "h = (b-a)/N\n",
      "sum1 = 0.\n",
      "sum2 = 0.\n",
      "for k in range(1,N/2+1):\n",
      "    sum1 += g(a+(2*k-1)*h)\n",
      "for k in range(1,N/2):\n",
      "    sum2 += g(a + (2*k*h))\n",
      "area = (1/3.)*h*(g(a) + g(b) + 4*sum1 +2*sum2)\n",
      "print area"
     ],
     "language": "python",
     "metadata": {},
     "outputs": [
      {
       "output_type": "stream",
       "stream": "stdout",
       "text": [
        "4.40042666667\n"
       ]
      }
     ],
     "prompt_number": 47
    },
    {
     "cell_type": "markdown",
     "metadata": {},
     "source": [
      "b)\n",
      "-"
     ]
    },
    {
     "cell_type": "code",
     "collapsed": false,
     "input": [
      "error = (4.40042666667 - 4.4)/4.4\n",
      "print error "
     ],
     "language": "python",
     "metadata": {},
     "outputs": [
      {
       "output_type": "stream",
       "stream": "stdout",
       "text": [
        "9.69696977271e-05\n"
       ]
      }
     ],
     "prompt_number": 49
    },
    {
     "cell_type": "markdown",
     "metadata": {},
     "source": [
      "c)\n",
      "-"
     ]
    },
    {
     "cell_type": "code",
     "collapsed": false,
     "input": [
      "g = lambda x: x**4 -2*x +1\n",
      "N = 100\n",
      "a = 0.\n",
      "b = 2.\n",
      "h = (b-a)/N\n",
      "sum1 = 0.\n",
      "sum2 = 0.\n",
      "for k in range(1,N/2+1):\n",
      "    sum1 += g(a+(2*k-1)*h)\n",
      "for k in range(1,N/2):\n",
      "    sum2 += g(a + (2*k*h))\n",
      "area = (1/3.)*h*(g(a) + g(b) + 4*sum1 +2*sum2)\n",
      "print area"
     ],
     "language": "python",
     "metadata": {},
     "outputs": [
      {
       "output_type": "stream",
       "stream": "stdout",
       "text": [
        "4.40000004267\n"
       ]
      }
     ],
     "prompt_number": 50
    },
    {
     "cell_type": "code",
     "collapsed": false,
     "input": [
      "error = 4.40000004267-4.40001066667\n",
      "print error"
     ],
     "language": "python",
     "metadata": {},
     "outputs": [
      {
       "output_type": "stream",
       "stream": "stdout",
       "text": [
        "-1.06239999997e-05\n"
       ]
      }
     ],
     "prompt_number": 52
    },
    {
     "cell_type": "markdown",
     "metadata": {},
     "source": [
      "Ex.3\n",
      "-"
     ]
    },
    {
     "cell_type": "code",
     "collapsed": false,
     "input": [
      "theta = linspace(0,pi,0.3)\n",
      "Iwrong = integrate.trapz(theta,cos(theta))\n",
      "print Iwrong"
     ],
     "language": "python",
     "metadata": {},
     "outputs": [
      {
       "output_type": "stream",
       "stream": "stdout",
       "text": [
        "0.0\n"
       ]
      }
     ],
     "prompt_number": 58
    },
    {
     "cell_type": "code",
     "collapsed": false,
     "input": [],
     "language": "python",
     "metadata": {},
     "outputs": []
    }
   ],
   "metadata": {}
  }
 ]
}