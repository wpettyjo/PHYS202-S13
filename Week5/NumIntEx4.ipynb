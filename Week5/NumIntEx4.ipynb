{
 "metadata": {
  "name": "NumIntEx4"
 },
 "nbformat": 3,
 "nbformat_minor": 0,
 "worksheets": [
  {
   "cells": [
    {
     "cell_type": "markdown",
     "metadata": {},
     "source": [
      "Numerical Integration, Exercises 4\n",
      "="
     ]
    },
    {
     "cell_type": "markdown",
     "metadata": {},
     "source": [
      "Ex. 1\n",
      "-\n",
      "Calculate $E(x) = \\int_{0}^{x}e^{-t^{2}}dt$"
     ]
    },
    {
     "cell_type": "markdown",
     "metadata": {},
     "source": [
      "a)\n",
      "-"
     ]
    },
    {
     "cell_type": "code",
     "collapsed": false,
     "input": [
      "g = lambda t: exp(-t**2)\n",
      "N = 31\n",
      "a = 0.\n",
      "b = 3.\n",
      "h = (b-a)/N\n",
      "sum1 = 0.\n",
      "sum2 = 0.\n",
      "for k in range(1,N/2+1):\n",
      "    sum1 += g(a+(2*k-1)*h)\n",
      "for k in range(1,N/2):\n",
      "    sum2 += g(a + (2*k*h))\n",
      "area = (1/3.)*h*(g(a) + g(b) + 4*sum1 +2*sum2)\n",
      "print area#simpsons rule"
     ],
     "language": "python",
     "metadata": {},
     "outputs": [
      {
       "output_type": "stream",
       "stream": "stdout",
       "text": [
        "0.886188130655\n"
       ]
      }
     ],
     "prompt_number": 12
    },
    {
     "cell_type": "markdown",
     "metadata": {},
     "source": [
      "b)\n",
      "-"
     ]
    },
    {
     "cell_type": "code",
     "collapsed": false,
     "input": [
      "E = lambda t: exp(-t**2)\n",
      "x = arange(0.,3.1,.1)\n"
     ],
     "language": "python",
     "metadata": {},
     "outputs": [],
     "prompt_number": 13
    },
    {
     "cell_type": "code",
     "collapsed": false,
     "input": [
      "myplot = plot(x,E(x), lw=3)\n",
      "show()"
     ],
     "language": "python",
     "metadata": {},
     "outputs": [
      {
       "output_type": "display_data",
       "png": "[encoded data removed]"
      }
     ],
     "prompt_number": 27
    },
    {
     "cell_type": "markdown",
     "metadata": {},
     "source": [
      "Ex. 2\n",
      "-"
     ]
    },
    {
     "cell_type": "code",
     "collapsed": false,
     "input": [
      "import math \n",
      "import scipy.integrate as integrate"
     ],
     "language": "python",
     "metadata": {},
     "outputs": [],
     "prompt_number": 3
    },
    {
     "cell_type": "code",
     "collapsed": false,
     "input": [
      "L = 1\n",
      "n = 1\n",
      "psi = lambda x: abs((sqrt(2/L)*sin((n*pi*x)/L))**2)\n"
     ],
     "language": "python",
     "metadata": {},
     "outputs": [],
     "prompt_number": 5
    },
    {
     "cell_type": "code",
     "collapsed": false,
     "input": [
      "prob = integrate.quad(psi,L/3.,L/2.)\n",
      "print prob"
     ],
     "language": "python",
     "metadata": {},
     "outputs": [
      {
       "output_type": "stream",
       "stream": "stdout",
       "text": [
        "(0.3044988905221147, 3.380616792304666e-15)\n"
       ]
      }
     ],
     "prompt_number": 8
    },
    {
     "cell_type": "code",
     "collapsed": false,
     "input": [],
     "language": "python",
     "metadata": {},
     "outputs": []
    },
    {
     "cell_type": "markdown",
     "metadata": {},
     "source": [
      "Ex. 3\n",
      "-"
     ]
    },
    {
     "cell_type": "code",
     "collapsed": false,
     "input": [],
     "language": "python",
     "metadata": {},
     "outputs": []
    }
   ],
   "metadata": {}
  }
 ]
}