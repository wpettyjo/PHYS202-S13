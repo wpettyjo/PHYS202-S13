{
 "metadata": {
  "name": "DataLinReg"
 },
 "nbformat": 3,
 "nbformat_minor": 0,
 "worksheets": [
  {
   "cells": [
    {
     "cell_type": "markdown",
     "metadata": {},
     "source": [
      "Data I/O and Linear Regression\n",
      "="
     ]
    },
    {
     "cell_type": "code",
     "collapsed": false,
     "input": [
      "import numpy as np"
     ],
     "language": "python",
     "metadata": {},
     "outputs": [],
     "prompt_number": 5
    },
    {
     "cell_type": "code",
     "collapsed": false,
     "input": [
      "#importing text into data\n",
      "datain = loadtxt('input.dat')\n",
      "print datain"
     ],
     "language": "python",
     "metadata": {},
     "outputs": [
      {
       "output_type": "stream",
       "stream": "stdout",
       "text": [
        "[[ 0.   1.1  0.1]\n",
        " [ 2.   1.9  0.2]\n",
        " [ 4.   3.2  0.1]\n",
        " [ 6.   4.   0.3]\n",
        " [ 8.   5.9  0.3]]\n"
       ]
      }
     ],
     "prompt_number": 7
    },
    {
     "cell_type": "code",
     "collapsed": false,
     "input": [
      "t = array([0.0,0.1,0.2,0.3,0.4,0.5,0.6,0.7,0.8,0.9])\n",
      "v = array([0.137,0.456,0.591,0.713,0.859,0.926,1.139,1.1327,1.512,1.875])\n",
      "P = .15 + v/10.\n",
      "print P\n",
      "savetxt('output.dat',(t,P))\n",
      "dataout = column_stack((t,P))\n",
      "savetxt('output.dat', dataout, fmt = ('%3i', '%4.3f'))"
     ],
     "language": "python",
     "metadata": {},
     "outputs": [
      {
       "output_type": "stream",
       "stream": "stdout",
       "text": [
        "[ 0.1637   0.1956   0.2091   0.2213   0.2359   0.2426   0.2639   0.26327\n",
        "  0.3012   0.3375 ]\n"
       ]
      }
     ],
     "prompt_number": 21
    },
    {
     "cell_type": "code",
     "collapsed": false,
     "input": [
      "f = open(\"output.dat\",\"w\")\n",
      "f.write(\"#HASHTAGHASHTAG\")\n",
      "savetxt(f, dataout, fmt = ('%3i', '%4.3f'))\n",
      "f.close"
     ],
     "language": "python",
     "metadata": {},
     "outputs": [
      {
       "output_type": "pyout",
       "prompt_number": 26,
       "text": [
        "<function close>"
       ]
      }
     ],
     "prompt_number": 26
    },
    {
     "cell_type": "markdown",
     "metadata": {},
     "source": [
      "Ex.1\n",
      "-"
     ]
    },
    {
     "cell_type": "markdown",
     "metadata": {},
     "source": [
      "part a)"
     ]
    },
    {
     "cell_type": "code",
     "collapsed": false,
     "input": [
      "Time = array([1,2,3,4,5,6,7,8,9,10])\n",
      "Position = array([7.75,7.33,6.89,6.45,5.96,5.55,5.10,4.49,3.93,3.58])\n",
      "Uncertainty_of_Position = array([0.02,0.03,0.04,0.05,0.06,0.07,0.08,0.11,0.14,0.17])\n",
      "thedata = column_stack((Time,Position,Uncertainty_of_Position))\n",
      "savetxt('Lineardata.dat' , thedata, fmt = ('%3.2f'),delimiter=' ')\n",
      "w = open('Lineardata.dat','w')\n",
      "w.write(\"Time in seconds, Position in meters, Uncertainty in meters\")\n",
      "w.close\n",
      "savetxt('w', thedata, fmt = ('%3.2f'),delimiter=' ')"
     ],
     "language": "python",
     "metadata": {},
     "outputs": [],
     "prompt_number": 49
    },
    {
     "cell_type": "markdown",
     "metadata": {},
     "source": [
      "part b)"
     ]
    },
    {
     "cell_type": "code",
     "collapsed": false,
     "input": [
      "savetxt('Lineardata.csv', thedata, fmt = ('%3.2f'),delimiter=',')\n",
      "n = open('Lineardata.csv','w')\n",
      "n.write(\"Time in seconds, Position in meters, Uncertainty in meters\")\n",
      "savetxt('n', thedata, fmt = ('%3.2f'),delimiter=',')\n"
     ],
     "language": "python",
     "metadata": {},
     "outputs": [],
     "prompt_number": 48
    },
    {
     "cell_type": "markdown",
     "metadata": {},
     "source": [
      "Linear Regression\n",
      "-"
     ]
    },
    {
     "cell_type": "code",
     "collapsed": false,
     "input": [],
     "language": "python",
     "metadata": {},
     "outputs": []
    }
   ],
   "metadata": {}
  }
 ]
}