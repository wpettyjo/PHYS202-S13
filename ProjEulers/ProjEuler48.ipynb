{
 "metadata": {
  "name": "ProjEuler48"
 },
 "nbformat": 3,
 "nbformat_minor": 0,
 "worksheets": [
  {
   "cells": [
    {
     "cell_type": "markdown",
     "metadata": {},
     "source": [
      "Self powers\n",
      "=\n",
      "Problem 48\n",
      "-\n",
      "The series, 1^1 + 2^2 + 3^3 + ... + 10^10 = 10405071317.\n",
      "\n",
      "Find the last ten digits of the series, 1^1 + 2^2 + 3^3 + ... + 1000^1000."
     ]
    },
    {
     "cell_type": "code",
     "collapsed": false,
     "input": [
      "def selfpower(x):\n",
      "    count = 0\n",
      "    tally = ''\n",
      "    for i in range(1,x):\n",
      "        count = count + (i**i)\n",
      "        l = str(count)\n",
      "        n = len(l) - 10\n",
      "        m = l[n:]\n",
      "    print m"
     ],
     "language": "python",
     "metadata": {},
     "outputs": [],
     "prompt_number": 25
    },
    {
     "cell_type": "code",
     "collapsed": false,
     "input": [
      "selfpower(1001)"
     ],
     "language": "python",
     "metadata": {},
     "outputs": [
      {
       "output_type": "stream",
       "stream": "stdout",
       "text": [
        "9110846700\n"
       ]
      }
     ],
     "prompt_number": 26
    },
    {
     "cell_type": "code",
     "collapsed": false,
     "input": [],
     "language": "python",
     "metadata": {},
     "outputs": []
    }
   ],
   "metadata": {}
  }
 ]
}