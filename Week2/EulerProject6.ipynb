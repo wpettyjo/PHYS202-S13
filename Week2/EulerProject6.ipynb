{
 "metadata": {
  "name": "EulerProject6"
 },
 "nbformat": 3,
 "nbformat_minor": 0,
 "worksheets": [
  {
   "cells": [
    {
     "cell_type": "markdown",
     "metadata": {},
     "source": [
      "Sum square difference\n",
      "=====================   \n",
      "Problem 6 \n",
      "---------    \n",
      "The sum of the squares of the first ten natural numbers is,\n",
      "                    1$^2$ + 2$^2$ + ... + 10$^2$ = 385\n",
      "The square of the sum of the fist ten natural numbers is,\n",
      "                    (1 + 2 + ... + 10)$^2$ = 55$^2$ = 3025\n",
      "Hend the difference between tehe sum of the quares of the first ten natural numbers and the square of the sum is 3025 - 285 = 2640.\n",
      "\n",
      "Find the difference between the sum of the squares of the first one hundred\n",
      "natural numbers and the square of the sum.\n",
      "    "
     ]
    },
    {
     "cell_type": "code",
     "collapsed": false,
     "input": [
      "sum_of_squares = 0\n",
      "square_of_sum = 0\n",
      "for number in range(101):\n",
      "    sum_of_squares += number**2\n",
      "    square_of_sum += number\n",
      "square_of_sum = square_of_sum**2\n",
      "print square_of_sum - sum_of_squares\n",
      "\n",
      "    \n",
      "    "
     ],
     "language": "python",
     "metadata": {},
     "outputs": [
      {
       "output_type": "stream",
       "stream": "stdout",
       "text": [
        "25164150\n"
       ]
      }
     ],
     "prompt_number": 3
    },
    {
     "cell_type": "code",
     "collapsed": false,
     "input": [],
     "language": "python",
     "metadata": {},
     "outputs": []
    }
   ],
   "metadata": {}
  }
 ]
}