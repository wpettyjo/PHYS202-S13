{
 "metadata": {
  "name": "ProjEuler25"
 },
 "nbformat": 3,
 "nbformat_minor": 0,
 "worksheets": [
  {
   "cells": [
    {
     "cell_type": "markdown",
     "metadata": {},
     "source": [
      "Project Euler #25\n",
      "=\n",
      "\n",
      "1000 digit Fibonacci number\n",
      "-\n",
      "\n",
      "The Fibonacci sequence is defined by the recurrence relation:\n",
      "\n",
      "Fn = Fn1 + Fn2, where F1 = 1 and F2 = 1.\n",
      "\n",
      "What is the first term in the Fibonacci sequence to contain 1000 digits?"
     ]
    },
    {
     "cell_type": "code",
     "collapsed": false,
     "input": [
      "fibo = 1\n",
      "num1 = 0\n",
      "num2 = 1\n",
      "end= 1000\n",
      "\n",
      "i = 1\n",
      "\n",
      "while len(str(fibo)) < end:\n",
      "\tfibo = num1 + num2\n",
      "\tnum1 = num2\n",
      "\tnum2 = fibo\n",
      "\ti = i + 1\n",
      "print str(i)[0:1]"
     ],
     "language": "python",
     "metadata": {},
     "outputs": [
      {
       "output_type": "stream",
       "stream": "stdout",
       "text": [
        "4\n"
       ]
      }
     ],
     "prompt_number": 16
    },
    {
     "cell_type": "code",
     "collapsed": false,
     "input": [],
     "language": "python",
     "metadata": {},
     "outputs": []
    }
   ],
   "metadata": {}
  }
 ]
}